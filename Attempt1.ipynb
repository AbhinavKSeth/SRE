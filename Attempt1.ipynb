{
  "nbformat": 4,
  "nbformat_minor": 0,
  "metadata": {
    "colab": {
      "name": "Untitled0.ipynb",
      "provenance": [],
      "collapsed_sections": [],
      "mount_file_id": "1fq1cFg6LvOiYj-6tmRU_R5MsZ4TFifAH",
      "authorship_tag": "ABX9TyN+T0ZozYD64+QJxc+f48HN",
      "include_colab_link": true
    },
    "kernelspec": {
      "name": "python3",
      "display_name": "Python 3"
    },
    "widgets": {
      "application/vnd.jupyter.widget-state+json": {
        "e6daa62f80ad433eba07fcfaa784d0ae": {
          "model_module": "@jupyter-widgets/controls",
          "model_name": "HBoxModel",
          "state": {
            "_view_name": "HBoxView",
            "_dom_classes": [],
            "_model_name": "HBoxModel",
            "_view_module": "@jupyter-widgets/controls",
            "_model_module_version": "1.5.0",
            "_view_count": null,
            "_view_module_version": "1.5.0",
            "box_style": "",
            "layout": "IPY_MODEL_10a441c16a254ec69f6a65899bb11fb9",
            "_model_module": "@jupyter-widgets/controls",
            "children": [
              "IPY_MODEL_1156fab21ada48118d0c71cb50df5761",
              "IPY_MODEL_bb020f53e8334b108d2bcea4daad6a00"
            ]
          }
        },
        "10a441c16a254ec69f6a65899bb11fb9": {
          "model_module": "@jupyter-widgets/base",
          "model_name": "LayoutModel",
          "state": {
            "_view_name": "LayoutView",
            "grid_template_rows": null,
            "right": null,
            "justify_content": null,
            "_view_module": "@jupyter-widgets/base",
            "overflow": null,
            "_model_module_version": "1.2.0",
            "_view_count": null,
            "flex_flow": null,
            "width": null,
            "min_width": null,
            "border": null,
            "align_items": null,
            "bottom": null,
            "_model_module": "@jupyter-widgets/base",
            "top": null,
            "grid_column": null,
            "overflow_y": null,
            "overflow_x": null,
            "grid_auto_flow": null,
            "grid_area": null,
            "grid_template_columns": null,
            "flex": null,
            "_model_name": "LayoutModel",
            "justify_items": null,
            "grid_row": null,
            "max_height": null,
            "align_content": null,
            "visibility": null,
            "align_self": null,
            "height": null,
            "min_height": null,
            "padding": null,
            "grid_auto_rows": null,
            "grid_gap": null,
            "max_width": null,
            "order": null,
            "_view_module_version": "1.2.0",
            "grid_template_areas": null,
            "object_position": null,
            "object_fit": null,
            "grid_auto_columns": null,
            "margin": null,
            "display": null,
            "left": null
          }
        },
        "1156fab21ada48118d0c71cb50df5761": {
          "model_module": "@jupyter-widgets/controls",
          "model_name": "IntProgressModel",
          "state": {
            "_view_name": "ProgressView",
            "style": "IPY_MODEL_b1107416987e46298b368c87b8e7e32b",
            "_dom_classes": [],
            "description": "",
            "_model_name": "IntProgressModel",
            "bar_style": "success",
            "max": 574673361,
            "_view_module": "@jupyter-widgets/controls",
            "_model_module_version": "1.5.0",
            "value": 574673361,
            "_view_count": null,
            "_view_module_version": "1.5.0",
            "orientation": "horizontal",
            "min": 0,
            "description_tooltip": null,
            "_model_module": "@jupyter-widgets/controls",
            "layout": "IPY_MODEL_44e3db6af63f4a99adff5da91641e630"
          }
        },
        "bb020f53e8334b108d2bcea4daad6a00": {
          "model_module": "@jupyter-widgets/controls",
          "model_name": "HTMLModel",
          "state": {
            "_view_name": "HTMLView",
            "style": "IPY_MODEL_69c5c8da7933402dbff5e0d7e57acd50",
            "_dom_classes": [],
            "description": "",
            "_model_name": "HTMLModel",
            "placeholder": "​",
            "_view_module": "@jupyter-widgets/controls",
            "_model_module_version": "1.5.0",
            "value": "100% 548M/548M [00:15&lt;00:00, 36.3MB/s]",
            "_view_count": null,
            "_view_module_version": "1.5.0",
            "description_tooltip": null,
            "_model_module": "@jupyter-widgets/controls",
            "layout": "IPY_MODEL_12065703165548829ba5d0df8c4d584c"
          }
        },
        "b1107416987e46298b368c87b8e7e32b": {
          "model_module": "@jupyter-widgets/controls",
          "model_name": "ProgressStyleModel",
          "state": {
            "_view_name": "StyleView",
            "_model_name": "ProgressStyleModel",
            "description_width": "",
            "_view_module": "@jupyter-widgets/base",
            "_model_module_version": "1.5.0",
            "_view_count": null,
            "_view_module_version": "1.2.0",
            "bar_color": null,
            "_model_module": "@jupyter-widgets/controls"
          }
        },
        "44e3db6af63f4a99adff5da91641e630": {
          "model_module": "@jupyter-widgets/base",
          "model_name": "LayoutModel",
          "state": {
            "_view_name": "LayoutView",
            "grid_template_rows": null,
            "right": null,
            "justify_content": null,
            "_view_module": "@jupyter-widgets/base",
            "overflow": null,
            "_model_module_version": "1.2.0",
            "_view_count": null,
            "flex_flow": null,
            "width": null,
            "min_width": null,
            "border": null,
            "align_items": null,
            "bottom": null,
            "_model_module": "@jupyter-widgets/base",
            "top": null,
            "grid_column": null,
            "overflow_y": null,
            "overflow_x": null,
            "grid_auto_flow": null,
            "grid_area": null,
            "grid_template_columns": null,
            "flex": null,
            "_model_name": "LayoutModel",
            "justify_items": null,
            "grid_row": null,
            "max_height": null,
            "align_content": null,
            "visibility": null,
            "align_self": null,
            "height": null,
            "min_height": null,
            "padding": null,
            "grid_auto_rows": null,
            "grid_gap": null,
            "max_width": null,
            "order": null,
            "_view_module_version": "1.2.0",
            "grid_template_areas": null,
            "object_position": null,
            "object_fit": null,
            "grid_auto_columns": null,
            "margin": null,
            "display": null,
            "left": null
          }
        },
        "69c5c8da7933402dbff5e0d7e57acd50": {
          "model_module": "@jupyter-widgets/controls",
          "model_name": "DescriptionStyleModel",
          "state": {
            "_view_name": "StyleView",
            "_model_name": "DescriptionStyleModel",
            "description_width": "",
            "_view_module": "@jupyter-widgets/base",
            "_model_module_version": "1.5.0",
            "_view_count": null,
            "_view_module_version": "1.2.0",
            "_model_module": "@jupyter-widgets/controls"
          }
        },
        "12065703165548829ba5d0df8c4d584c": {
          "model_module": "@jupyter-widgets/base",
          "model_name": "LayoutModel",
          "state": {
            "_view_name": "LayoutView",
            "grid_template_rows": null,
            "right": null,
            "justify_content": null,
            "_view_module": "@jupyter-widgets/base",
            "overflow": null,
            "_model_module_version": "1.2.0",
            "_view_count": null,
            "flex_flow": null,
            "width": null,
            "min_width": null,
            "border": null,
            "align_items": null,
            "bottom": null,
            "_model_module": "@jupyter-widgets/base",
            "top": null,
            "grid_column": null,
            "overflow_y": null,
            "overflow_x": null,
            "grid_auto_flow": null,
            "grid_area": null,
            "grid_template_columns": null,
            "flex": null,
            "_model_name": "LayoutModel",
            "justify_items": null,
            "grid_row": null,
            "max_height": null,
            "align_content": null,
            "visibility": null,
            "align_self": null,
            "height": null,
            "min_height": null,
            "padding": null,
            "grid_auto_rows": null,
            "grid_gap": null,
            "max_width": null,
            "order": null,
            "_view_module_version": "1.2.0",
            "grid_template_areas": null,
            "object_position": null,
            "object_fit": null,
            "grid_auto_columns": null,
            "margin": null,
            "display": null,
            "left": null
          }
        }
      }
    },
    "accelerator": "GPU"
  },
  "cells": [
    {
      "cell_type": "markdown",
      "metadata": {
        "id": "view-in-github",
        "colab_type": "text"
      },
      "source": [
        "<a href=\"https://colab.research.google.com/github/AbhinavKSeth/SRE/blob/master/Attempt1.ipynb\" target=\"_parent\"><img src=\"https://colab.research.google.com/assets/colab-badge.svg\" alt=\"Open In Colab\"/></a>"
      ]
    },
    {
      "cell_type": "code",
      "metadata": {
        "id": "xch4blx0sLzP",
        "colab_type": "code",
        "colab": {}
      },
      "source": [
        "import os\n",
        "import cv2\n",
        "import PIL\n",
        "import copy\n",
        "import time\n",
        "import torch\n",
        "import shutil\n",
        "import random\n",
        "import numpy as np\n",
        "import pandas as pd\n",
        "from torch import nn\n",
        "from PIL import Image\n",
        "import torch.optim as optim\n",
        "import matplotlib.pyplot as plt\n",
        "from skimage import io, transform\n",
        "from torchvision import datasets\n",
        "import matplotlib.image as mpimg\n",
        "from torchvision import transforms\n",
        "from torch.optim import lr_scheduler\n",
        "import torchvision.models as models\n",
        "from torch.utils.data import Dataset"
      ],
      "execution_count": 0,
      "outputs": []
    },
    {
      "cell_type": "code",
      "metadata": {
        "id": "Y7UrAYv23DqV",
        "colab_type": "code",
        "colab": {}
      },
      "source": [
        "data_transforms = {\n",
        "    'train': transforms.Compose([\n",
        "        transforms.RandomHorizontalFlip(),\n",
        "        transforms.RandomVerticalFlip(),\n",
        "        transforms.RandomAffine([-90,90]),\n",
        "        transforms.ToTensor()\n",
        "        # transforms.Normalize([0.485, 0.456, 0.406], [0.229, 0.224, 0.225])\n",
        "    ]),\n",
        "    'val': transforms.Compose([\n",
        "        transforms.ToTensor()\n",
        "        # transforms.Normalize([0.485, 0.456, 0.406], [0.229, 0.224, 0.225])\n",
        "    ]),\n",
        "}\n"
      ],
      "execution_count": 0,
      "outputs": []
    },
    {
      "cell_type": "code",
      "metadata": {
        "id": "wOyJHMOOj1Pb",
        "colab_type": "code",
        "colab": {}
      },
      "source": [
        "data_dir = \"/content/drive/My Drive/path/images\"\n",
        "image_datasets = {x: datasets.ImageFolder(os.path.join(data_dir, x),\n",
        "                                          data_transforms[x])\n",
        "                  for x in ['train', 'val']}\n",
        "dataloaders = {x: torch.utils.data.DataLoader(image_datasets[x], batch_size=4,\n",
        "                                             shuffle=True, num_workers=4)\n",
        "              for x in ['train', 'val']}\n",
        "dataset_sizes = {x: len(image_datasets[x]) for x in ['train', 'val']}\n",
        "class_names = image_datasets['train'].classes\n",
        "\n",
        "device = torch.device(\"cuda:0\" if torch.cuda.is_available() else \"cpu\")"
      ],
      "execution_count": 0,
      "outputs": []
    },
    {
      "cell_type": "code",
      "metadata": {
        "id": "uywCRsD8Argr",
        "colab_type": "code",
        "outputId": "230b49b4-9400-48da-95de-560bbdc34f0f",
        "colab": {
          "base_uri": "https://localhost:8080/",
          "height": 34
        }
      },
      "source": [
        "image_datasets['val'].class_to_idx"
      ],
      "execution_count": 0,
      "outputs": [
        {
          "output_type": "execute_result",
          "data": {
            "text/plain": [
              "{'Defective': 0, 'Good': 1}"
            ]
          },
          "metadata": {
            "tags": []
          },
          "execution_count": 4
        }
      ]
    },
    {
      "cell_type": "code",
      "metadata": {
        "id": "QgCAXdYk35Z8",
        "colab_type": "code",
        "colab": {}
      },
      "source": [
        ""
      ],
      "execution_count": 0,
      "outputs": []
    },
    {
      "cell_type": "code",
      "metadata": {
        "id": "TTK-kB9LmKsc",
        "colab_type": "code",
        "colab": {}
      },
      "source": [
        "def train_model(model, criterion, optimizer, scheduler, num_epochs=25):\n",
        "    since = time.time()\n",
        "\n",
        "    best_model_wts = copy.deepcopy(model.state_dict())\n",
        "    best_acc = 0.0\n",
        "\n",
        "    for epoch in range(num_epochs):\n",
        "        print('Epoch {}/{}'.format(epoch, num_epochs - 1))\n",
        "        print('-' * 10)\n",
        "\n",
        "        # Each epoch has a training and validation phase\n",
        "        for phase in ['train', 'val']:\n",
        "            if phase == 'train':\n",
        "                model.train()  # Set model to training mode\n",
        "            else:\n",
        "                model.eval()   # Set model to evaluate mode\n",
        "\n",
        "            running_loss = 0.0\n",
        "            running_corrects = 0\n",
        "\n",
        "            # Iterate over data.\n",
        "            for inputs, labels in dataloaders[phase]:\n",
        "                inputs = inputs.to(device)\n",
        "                labels = labels.to(device)\n",
        "\n",
        "                # zero the parameter gradients\n",
        "                optimizer.zero_grad()\n",
        "\n",
        "                # forward\n",
        "                # track history if only in train\n",
        "                with torch.set_grad_enabled(phase == 'train'):\n",
        "                    outputs = model(inputs)\n",
        "                    _, preds = torch.max(outputs, 1)\n",
        "                    # if(phase == 'val'): \n",
        "                    #   print(labels)\n",
        "                    #   print(outputs)\n",
        "\n",
        "                    loss = criterion(outputs, labels)\n",
        "\n",
        "                    # backward + optimize only if in training phase\n",
        "                    if phase == 'train':\n",
        "                        loss.backward()\n",
        "                        optimizer.step()\n",
        "\n",
        "                # statistics\n",
        "                running_loss += loss.item() * inputs.size(0)\n",
        "                running_corrects += torch.sum(preds == labels.data)\n",
        "            # print(labels)\n",
        "            # print(outputs)\n",
        "\n",
        "            if phase == 'train':\n",
        "                scheduler.step()\n",
        "\n",
        "            epoch_loss = running_loss / dataset_sizes[phase]\n",
        "            epoch_acc = running_corrects.double() / dataset_sizes[phase]\n",
        "\n",
        "            print('{} Loss: {:.4f} Acc: {:.4f}'.format(\n",
        "                phase, epoch_loss, epoch_acc))\n",
        "\n",
        "            # deep copy the model\n",
        "            if phase == 'val' and epoch_acc > best_acc:\n",
        "                best_acc = epoch_acc\n",
        "                best_model_wts = copy.deepcopy(model.state_dict())\n",
        "\n",
        "        print()\n",
        "\n",
        "    time_elapsed = time.time() - since\n",
        "    print('Training complete in {:.0f}m {:.0f}s'.format(\n",
        "        time_elapsed // 60, time_elapsed % 60))\n",
        "    print('Best val Acc: {:4f}'.format(best_acc))\n",
        "\n",
        "    # load best model weights\n",
        "    model.load_state_dict(best_model_wts)\n",
        "    return model"
      ],
      "execution_count": 0,
      "outputs": []
    },
    {
      "cell_type": "code",
      "metadata": {
        "id": "7vtwBGkEOaj_",
        "colab_type": "code",
        "outputId": "91adbf4a-936b-4cc4-9f00-047c783b4a52",
        "colab": {
          "base_uri": "https://localhost:8080/",
          "height": 83,
          "referenced_widgets": [
            "e6daa62f80ad433eba07fcfaa784d0ae",
            "10a441c16a254ec69f6a65899bb11fb9",
            "1156fab21ada48118d0c71cb50df5761",
            "bb020f53e8334b108d2bcea4daad6a00",
            "b1107416987e46298b368c87b8e7e32b",
            "44e3db6af63f4a99adff5da91641e630",
            "69c5c8da7933402dbff5e0d7e57acd50",
            "12065703165548829ba5d0df8c4d584c"
          ]
        }
      },
      "source": [
        "vgg19 = models.vgg19(pretrained=True)\n",
        "\n",
        "for param in vgg19.parameters():\n",
        "    param.requires_grad_(False)\n",
        "vgg19.classifier = nn.Sequential(\n",
        "                    nn.Linear(25088,4096,bias = True),\n",
        "                    nn.ReLU(inplace=True),\n",
        "                    nn.Dropout(p=0.5, inplace=False),\n",
        "                    nn.Linear(4096,2048,bias = True),\n",
        "                    nn.ReLU(inplace=True),\n",
        "                    nn.Dropout(p=0.5, inplace=False),\n",
        "                    nn.Linear(2048,2,bias = True)\n",
        "                    )\n",
        "vgg19  = vgg19.to(device)"
      ],
      "execution_count": 0,
      "outputs": [
        {
          "output_type": "stream",
          "text": [
            "Downloading: \"https://download.pytorch.org/models/vgg19-dcbb9e9d.pth\" to /root/.cache/torch/checkpoints/vgg19-dcbb9e9d.pth\n"
          ],
          "name": "stderr"
        },
        {
          "output_type": "display_data",
          "data": {
            "application/vnd.jupyter.widget-view+json": {
              "model_id": "e6daa62f80ad433eba07fcfaa784d0ae",
              "version_minor": 0,
              "version_major": 2
            },
            "text/plain": [
              "HBox(children=(IntProgress(value=0, max=574673361), HTML(value='')))"
            ]
          },
          "metadata": {
            "tags": []
          }
        },
        {
          "output_type": "stream",
          "text": [
            "\n"
          ],
          "name": "stdout"
        }
      ]
    },
    {
      "cell_type": "code",
      "metadata": {
        "id": "qq-CaxKlnB5j",
        "colab_type": "code",
        "colab": {}
      },
      "source": [
        "criterion = nn.CrossEntropyLoss()\n",
        "\n",
        "# Observe that only parameters of final layer are being optimized as\n",
        "# opposed to before.\n",
        "optimizer1 = optim.SGD(vgg19.classifier.parameters(), lr=0.001, momentum=0.9)\n",
        "\n",
        "# Decay LR by a factor of 0.1 every 7 epochs\n",
        "exp_lr_scheduler = lr_scheduler.StepLR(optimizer1, step_size=7, gamma=0.1)"
      ],
      "execution_count": 0,
      "outputs": []
    },
    {
      "cell_type": "code",
      "metadata": {
        "id": "XOuC8vYfnGu-",
        "colab_type": "code",
        "outputId": "9827896c-cfaa-416d-9d51-ad95498ab308",
        "colab": {
          "base_uri": "https://localhost:8080/",
          "height": 1000
        }
      },
      "source": [
        "vgg19 = train_model(vgg19, criterion, optimizer1,\n",
        "                         exp_lr_scheduler, num_epochs=25)"
      ],
      "execution_count": 0,
      "outputs": [
        {
          "output_type": "stream",
          "text": [
            "Epoch 0/24\n",
            "----------\n",
            "train Loss: 0.5773 Acc: 0.7038\n",
            "val Loss: 0.5201 Acc: 0.7530\n",
            "\n",
            "Epoch 1/24\n",
            "----------\n",
            "train Loss: 0.5300 Acc: 0.7475\n",
            "val Loss: 0.5054 Acc: 0.7774\n",
            "\n",
            "Epoch 2/24\n",
            "----------\n",
            "train Loss: 0.5010 Acc: 0.7561\n",
            "val Loss: 0.5102 Acc: 0.7271\n",
            "\n",
            "Epoch 3/24\n",
            "----------\n",
            "train Loss: 0.4897 Acc: 0.7622\n",
            "val Loss: 0.4848 Acc: 0.7729\n",
            "\n",
            "Epoch 4/24\n",
            "----------\n",
            "train Loss: 0.4800 Acc: 0.7683\n",
            "val Loss: 0.4939 Acc: 0.7485\n",
            "\n",
            "Epoch 5/24\n",
            "----------\n",
            "train Loss: 0.4711 Acc: 0.7805\n",
            "val Loss: 0.4537 Acc: 0.7957\n",
            "\n",
            "Epoch 6/24\n",
            "----------\n",
            "train Loss: 0.4589 Acc: 0.7912\n",
            "val Loss: 0.4938 Acc: 0.7439\n",
            "\n",
            "Epoch 7/24\n",
            "----------\n",
            "train Loss: 0.4465 Acc: 0.7866\n",
            "val Loss: 0.4678 Acc: 0.7622\n",
            "\n",
            "Epoch 8/24\n",
            "----------\n",
            "train Loss: 0.4330 Acc: 0.8018\n",
            "val Loss: 0.4591 Acc: 0.7805\n",
            "\n",
            "Epoch 9/24\n",
            "----------\n",
            "train Loss: 0.4248 Acc: 0.7983\n",
            "val Loss: 0.4609 Acc: 0.7683\n",
            "\n",
            "Epoch 10/24\n",
            "----------\n",
            "train Loss: 0.4374 Acc: 0.7932\n",
            "val Loss: 0.4527 Acc: 0.7912\n",
            "\n",
            "Epoch 11/24\n",
            "----------\n",
            "train Loss: 0.4247 Acc: 0.7957\n",
            "val Loss: 0.4587 Acc: 0.7774\n",
            "\n",
            "Epoch 12/24\n",
            "----------\n",
            "train Loss: 0.4205 Acc: 0.8044\n",
            "val Loss: 0.4537 Acc: 0.7851\n",
            "\n",
            "Epoch 13/24\n",
            "----------\n",
            "train Loss: 0.4245 Acc: 0.7962\n",
            "val Loss: 0.4509 Acc: 0.7866\n",
            "\n",
            "Epoch 14/24\n",
            "----------\n",
            "train Loss: 0.4157 Acc: 0.8049\n",
            "val Loss: 0.4518 Acc: 0.7835\n",
            "\n",
            "Epoch 15/24\n",
            "----------\n",
            "train Loss: 0.4136 Acc: 0.7988\n",
            "val Loss: 0.4514 Acc: 0.7835\n",
            "\n",
            "Epoch 16/24\n",
            "----------\n",
            "train Loss: 0.4232 Acc: 0.7993\n",
            "val Loss: 0.4505 Acc: 0.7851\n",
            "\n",
            "Epoch 17/24\n",
            "----------\n",
            "train Loss: 0.4112 Acc: 0.8064\n",
            "val Loss: 0.4504 Acc: 0.7851\n",
            "\n",
            "Epoch 18/24\n",
            "----------\n",
            "train Loss: 0.4135 Acc: 0.8039\n",
            "val Loss: 0.4506 Acc: 0.7851\n",
            "\n",
            "Epoch 19/24\n",
            "----------\n",
            "train Loss: 0.4164 Acc: 0.8069\n",
            "val Loss: 0.4517 Acc: 0.7835\n",
            "\n",
            "Epoch 20/24\n",
            "----------\n",
            "train Loss: 0.4109 Acc: 0.8064\n",
            "val Loss: 0.4513 Acc: 0.7835\n",
            "\n",
            "Epoch 21/24\n",
            "----------\n",
            "train Loss: 0.4167 Acc: 0.7983\n",
            "val Loss: 0.4512 Acc: 0.7835\n",
            "\n",
            "Epoch 22/24\n",
            "----------\n",
            "train Loss: 0.4159 Acc: 0.8079\n",
            "val Loss: 0.4512 Acc: 0.7835\n",
            "\n",
            "Epoch 23/24\n",
            "----------\n",
            "train Loss: 0.4141 Acc: 0.8064\n",
            "val Loss: 0.4512 Acc: 0.7835\n",
            "\n",
            "Epoch 24/24\n",
            "----------\n",
            "train Loss: 0.4145 Acc: 0.8084\n",
            "val Loss: 0.4511 Acc: 0.7835\n",
            "\n",
            "Training complete in 38m 37s\n",
            "Best val Acc: 0.795732\n"
          ],
          "name": "stdout"
        }
      ]
    },
    {
      "cell_type": "code",
      "metadata": {
        "id": "NOSQcVIGn3iv",
        "colab_type": "code",
        "colab": {}
      },
      "source": [
        ""
      ],
      "execution_count": 0,
      "outputs": []
    }
  ]
}